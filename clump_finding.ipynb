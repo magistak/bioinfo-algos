{
 "cells": [
  {
   "cell_type": "markdown",
   "metadata": {},
   "source": [
    "# Solve clump finding problem "
   ]
  },
  {
   "cell_type": "code",
   "execution_count": 43,
   "metadata": {},
   "outputs": [
    {
     "name": "stdout",
     "output_type": "stream",
     "text": [
      "CGGACTCGACAGATGTGAAGAACGACAATGTGAAGACTCGACACGACAGAGTGAAGAGAAGAGGAAACATTGTAA\n",
      "5 50 4\n"
     ]
    }
   ],
   "source": [
    "samp=\"\"\"CGGACTCGACAGATGTGAAGAACGACAATGTGAAGACTCGACACGACAGAGTGAAGAGAAGAGGAAACATTGTAA\n",
    "5 50 4\"\"\" #k,L,t\n",
    "lines=samp.strip().splitlines()\n",
    "k,L,t=[int(o) for o in lines[1].strip().split(\" \")]\n",
    "Text=lines[0].strip()\n",
    "print(Text)\n",
    "print(k,L,t)\n",
    "\n"
   ]
  },
  {
   "cell_type": "code",
   "execution_count": 1,
   "metadata": {},
   "outputs": [],
   "source": [
    "def FrequencyTable(Text:str,k:int):\n",
    "    freqMap={}\n",
    "    n=len(Text)\n",
    "    for i in range(n-k+1):\n",
    "        Pattern=Text[i:i+k]\n",
    "        if freqMap.get(Pattern)==None:\n",
    "            freqMap[Pattern]=1\n",
    "        else:\n",
    "            freqMap[Pattern]+=1\n",
    "    return freqMap\n",
    "#FrequencyTable(Text, k)"
   ]
  },
  {
   "cell_type": "code",
   "execution_count": 2,
   "metadata": {},
   "outputs": [],
   "source": [
    "#FindClumps()\n",
    "def FindClumps(Text:str,k:int,L:int,t:int):\n",
    "    clump_seqs=set()\n",
    "    for i in range(len(Text)-L+1):\n",
    "        clump={key:v for (key,v) in FrequencyTable(Text[0+i:L+i],k).items() if v>=t}\n",
    "        if clump is not None:\n",
    "            for key in clump.keys():\n",
    "                clump_seqs.add(key)\n",
    "    return \" \".join(clump_seqs)\n",
    "#FindClumps(Text,k,L,t)"
   ]
  },
  {
   "cell_type": "code",
   "execution_count": null,
   "metadata": {},
   "outputs": [],
   "source": [
    "%%time "
   ]
  },
  {
   "cell_type": "code",
   "execution_count": 16,
   "metadata": {},
   "outputs": [
    {
     "ename": "KeyError",
     "evalue": "'CTCCCTTACT'",
     "output_type": "error",
     "traceback": [
      "\u001b[0;31m---------------------------------------------------------------------------\u001b[0m",
      "\u001b[0;31mKeyError\u001b[0m                                  Traceback (most recent call last)",
      "File \u001b[0;32m<timed exec>:8\u001b[0m\n",
      "File \u001b[0;32m<timed exec>:7\u001b[0m, in \u001b[0;36msolve_clump\u001b[0;34m(file)\u001b[0m\n",
      "Cell \u001b[0;32mIn[15], line 9\u001b[0m, in \u001b[0;36mBetterFindClumps\u001b[0;34m(Text, k, L, t)\u001b[0m\n\u001b[1;32m      7\u001b[0m     old_kmer\u001b[38;5;241m=\u001b[39mText[i\u001b[38;5;241m-\u001b[39m\u001b[38;5;241m1\u001b[39m:i\u001b[38;5;241m-\u001b[39m\u001b[38;5;241m1\u001b[39m\u001b[38;5;241m+\u001b[39mk]\n\u001b[1;32m      8\u001b[0m     new_kmer\u001b[38;5;241m=\u001b[39mText[i\u001b[38;5;241m+\u001b[39mL\u001b[38;5;241m-\u001b[39m\u001b[38;5;241m1\u001b[39m:i\u001b[38;5;241m+\u001b[39mL\u001b[38;5;241m-\u001b[39m\u001b[38;5;241m1\u001b[39m\u001b[38;5;241m+\u001b[39mk]\n\u001b[0;32m----> 9\u001b[0m     freq_tbl\u001b[38;5;241m=\u001b[39m\u001b[43mupdate_freq_dic\u001b[49m\u001b[43m(\u001b[49m\u001b[43mfreq_tbl\u001b[49m\u001b[43m,\u001b[49m\u001b[43mnew_kmer\u001b[49m\u001b[43m,\u001b[49m\u001b[43mold_kmer\u001b[49m\u001b[43m)\u001b[49m\n\u001b[1;32m     10\u001b[0m     clump_seqs\u001b[38;5;241m=\u001b[39mupdate_clump_seqs(freq_tbl,t,clump_seqs)\n\u001b[1;32m     11\u001b[0m \u001b[38;5;28;01mreturn\u001b[39;00m \u001b[38;5;124m\"\u001b[39m\u001b[38;5;124m \u001b[39m\u001b[38;5;124m\"\u001b[39m\u001b[38;5;241m.\u001b[39mjoin(clump_seqs)\n",
      "Cell \u001b[0;32mIn[8], line 3\u001b[0m, in \u001b[0;36mupdate_freq_dic\u001b[0;34m(freq_dic, add, sub)\u001b[0m\n\u001b[1;32m      1\u001b[0m \u001b[38;5;28;01mdef\u001b[39;00m \u001b[38;5;21mupdate_freq_dic\u001b[39m(freq_dic:\u001b[38;5;28mdict\u001b[39m, add:\u001b[38;5;28mstr\u001b[39m, sub:\u001b[38;5;28mstr\u001b[39m):\n\u001b[1;32m      2\u001b[0m     freq_dic[add] \u001b[38;5;241m=\u001b[39m freq_dic\u001b[38;5;241m.\u001b[39mget(add, \u001b[38;5;241m0\u001b[39m) \u001b[38;5;241m+\u001b[39m \u001b[38;5;241m1\u001b[39m\n\u001b[0;32m----> 3\u001b[0m     freq_dic[sub]\u001b[38;5;241m-\u001b[39m\u001b[38;5;241m=\u001b[39m\u001b[38;5;241m1\u001b[39m\n\u001b[1;32m      4\u001b[0m     freq_dic\u001b[38;5;241m=\u001b[39m{k:v \u001b[38;5;28;01mfor\u001b[39;00m (k,v) \u001b[38;5;129;01min\u001b[39;00m freq_dic\u001b[38;5;241m.\u001b[39mitems() \u001b[38;5;28;01mif\u001b[39;00m v\u001b[38;5;241m>\u001b[39m\u001b[38;5;241m0\u001b[39m}\n\u001b[1;32m      5\u001b[0m     \u001b[38;5;28;01mreturn\u001b[39;00m freq_dic\n",
      "\u001b[0;31mKeyError\u001b[0m: 'CTCCCTTACT'"
     ]
    }
   ],
   "source": [
    "%%time\n",
    "def solve_clump(file):\n",
    "    with open(file, \"r\") as f:\n",
    "        data=f.read()\n",
    "    lines=data.strip().splitlines()\n",
    "    k,L,t=[int(o) for o in lines[1].strip().split(\" \")]\n",
    "    Text=lines[0].strip()\n",
    "    return BetterFindClumps(Text,k,L,t)\n",
    "solve_clump(\"dataset_30274_5.txt\")"
   ]
  },
  {
   "cell_type": "code",
   "execution_count": null,
   "metadata": {},
   "outputs": [],
   "source": [
    "%%time\n",
    "def solve_ecoli_clump(file):\n",
    "    with open(file, \"r\") as f:\n",
    "        data=f.read()\n",
    "    Text=data.strip()\n",
    "    k,L,t=9,500,3\n",
    "    return FindClumps(Text,k,L,t)\n",
    "solve_ecoli_clump(\"E_coli.txt\")\n"
   ]
  },
  {
   "cell_type": "code",
   "execution_count": 40,
   "metadata": {},
   "outputs": [
    {
     "data": {
      "text/plain": [
       "{'CGGAC': 1, 'GGACT': 1, 'GACTC': 1, 'ACTCG': 1, 'CTCGA': 1, 'TCGAC': 1}"
      ]
     },
     "execution_count": 40,
     "metadata": {},
     "output_type": "execute_result"
    }
   ],
   "source": [
    "clump_seqs=set()\n",
    "freq_tbls=[]\n",
    "L=10\n",
    "#init_ft\n",
    "for i in range(k-1):\n",
    "    window=Text[0+i:L+i]\n",
    "    freq_tbls.append(FrequencyTable(window,k))\n",
    "window=Text[0:10]\n",
    "kmer0=window[0:k]\n",
    "kmer_tail=window[-k:]\n",
    "freq_tbls[0]\n",
    "# for i in range(len(Text)-L+1):\n",
    "#     clump={key:v for (key,v) in FrequencyTable(Text[0+i:L+i],k).items() if v>=t}\n",
    "#     if clump is not None:\n",
    "#         for key in clump.keys():\n",
    "#             clump_seqs.add(key)\n",
    "# \" \".join(clump_seqs)"
   ]
  },
  {
   "cell_type": "code",
   "execution_count": 8,
   "metadata": {},
   "outputs": [],
   "source": [
    "def update_freq_dic(freq_dic:dict, add:str, sub:str):\n",
    "    freq_dic[add] = freq_dic.get(add, 0) + 1\n",
    "    freq_dic[sub]-=1\n",
    "    freq_dic={k:v for (k,v) in freq_dic.items() if v>0}\n",
    "    return freq_dic\n",
    "#update_freq_dic(freq_tbls[0],\"CGGAC\",\"GGACT\") \n"
   ]
  },
  {
   "cell_type": "code",
   "execution_count": 14,
   "metadata": {},
   "outputs": [],
   "source": [
    "def update_clump_seqs(freq_tbl,t,clump_seqs):\n",
    "    clump={key:v for (key,v) in freq_tbl.items() if v>=t}\n",
    "    if clump is not None:\n",
    "            for key in clump.keys():\n",
    "                clump_seqs.add(key)\n",
    "    return clump_seqs"
   ]
  },
  {
   "cell_type": "code",
   "execution_count": 15,
   "metadata": {},
   "outputs": [],
   "source": [
    "def BetterFindClumps(Text:str,k:int,L:int,t:int):\n",
    "    clump_seqs=set()\n",
    "    window=Text[0:L]\n",
    "    freq_tbl=FrequencyTable(window,k)\n",
    "    clump_seqs=update_clump_seqs(freq_tbl,t,clump_seqs) # a helper to add keys if freq≥t\n",
    "    for i in range(1,len(Text)-L+1):\n",
    "        old_kmer=Text[i-1:i-1+k]\n",
    "        new_kmer=Text[i+L-1:i+L-1+k]\n",
    "        freq_tbl=update_freq_dic(freq_tbl,new_kmer,old_kmer)\n",
    "        clump_seqs=update_clump_seqs(freq_tbl,t,clump_seqs)\n",
    "    return \" \".join(clump_seqs)\n",
    "#BetterFindClumps(Text,k,L,t)"
   ]
  },
  {
   "cell_type": "code",
   "execution_count": 48,
   "metadata": {},
   "outputs": [
    {
     "data": {
      "text/plain": [
       "0"
      ]
     },
     "execution_count": 48,
     "metadata": {},
     "output_type": "execute_result"
    }
   ],
   "source": [
    "4%4"
   ]
  }
 ],
 "metadata": {
  "kernelspec": {
   "display_name": "summer2024",
   "language": "python",
   "name": "python3"
  },
  "language_info": {
   "codemirror_mode": {
    "name": "ipython",
    "version": 3
   },
   "file_extension": ".py",
   "mimetype": "text/x-python",
   "name": "python",
   "nbconvert_exporter": "python",
   "pygments_lexer": "ipython3",
   "version": "3.10.14"
  }
 },
 "nbformat": 4,
 "nbformat_minor": 2
}
