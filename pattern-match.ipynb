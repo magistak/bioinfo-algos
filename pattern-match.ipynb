{
 "cells": [
  {
   "cell_type": "code",
   "execution_count": 1,
   "metadata": {},
   "outputs": [
    {
     "name": "stdout",
     "output_type": "stream",
     "text": [
      "ATAT GATATATGCATATACTT\n"
     ]
    }
   ],
   "source": [
    "samp=\"\"\"ATAT\n",
    "GATATATGCATATACTT\"\"\"\n",
    "lines=samp.strip().splitlines()\n",
    "Pattern=lines[0]\n",
    "Text=lines[1]\n",
    "print(Pattern, Text)"
   ]
  },
  {
   "cell_type": "markdown",
   "metadata": {},
   "source": [
    "Sample Output:\n",
    "```\n",
    "1 3 9\n",
    "```"
   ]
  },
  {
   "cell_type": "code",
   "execution_count": 7,
   "metadata": {},
   "outputs": [
    {
     "data": {
      "text/plain": [
       "'1 3 9'"
      ]
     },
     "execution_count": 7,
     "metadata": {},
     "output_type": "execute_result"
    }
   ],
   "source": [
    "def PatternFind(Text, Pattern):\n",
    "    pos=[]\n",
    "    for i in range(len(Text)-len(Pattern)+1):\n",
    "        if Text[i:i+len(Pattern)]==Pattern:\n",
    "            pos.append(i)\n",
    "    pos=[str(o) for o in pos]\n",
    "    return \" \".join(pos)\n",
    "PatternFind(Text,Pattern)"
   ]
  },
  {
   "cell_type": "code",
   "execution_count": 13,
   "metadata": {},
   "outputs": [],
   "source": [
    "with open(\"Vibrio_cholerae.txt\",\"r\") as f:\n",
    "    data=f.read()\n",
    "def solve_pattern_match(data):\n",
    "    lines=data.strip().splitlines()\n",
    "    Pattern=\"CTTGATCAT\"\n",
    "    Text=lines[0]\n",
    "    return PatternFind(Text,Pattern)\n",
    "with open(\"solve_Vibrio_cholerae.txt.txt\",\"w\") as f:\n",
    "    f.write(solve_pattern_match(data))\n",
    "\n"
   ]
  }
 ],
 "metadata": {
  "kernelspec": {
   "display_name": "summer2024",
   "language": "python",
   "name": "python3"
  },
  "language_info": {
   "codemirror_mode": {
    "name": "ipython",
    "version": 3
   },
   "file_extension": ".py",
   "mimetype": "text/x-python",
   "name": "python",
   "nbconvert_exporter": "python",
   "pygments_lexer": "ipython3",
   "version": "3.10.14"
  }
 },
 "nbformat": 4,
 "nbformat_minor": 2
}
