{
 "cells": [
  {
   "cell_type": "markdown",
   "metadata": {},
   "source": [
    "# function to implement:\n",
    "```\n",
    "PatternCount(Text, Pattern)\n",
    "  count ← 0\n",
    "  for i ← 0 to |Text| − |Pattern|\n",
    "    if Text(i, |Pattern|) = Pattern\n",
    "      count ← count + 1\n",
    "  return count\n",
    "```"
   ]
  },
  {
   "cell_type": "code",
   "execution_count": 1,
   "metadata": {},
   "outputs": [],
   "source": [
    "from pathlib import Path"
   ]
  },
  {
   "cell_type": "code",
   "execution_count": 2,
   "metadata": {},
   "outputs": [],
   "source": [
    "path=Path(\"PatternCount/\")"
   ]
  },
  {
   "cell_type": "code",
   "execution_count": 3,
   "metadata": {},
   "outputs": [
    {
     "name": "stdout",
     "output_type": "stream",
     "text": [
      "['GACCATCAAAACTGATAAACTACTTAAAAATCAGT', 'AAA']\n"
     ]
    }
   ],
   "source": [
    "samp=\"\"\"GACCATCAAAACTGATAAACTACTTAAAAATCAGT\n",
    "AAA\"\"\"\n",
    "lines=samp.splitlines()\n",
    "print(lines)"
   ]
  },
  {
   "cell_type": "code",
   "execution_count": 4,
   "metadata": {},
   "outputs": [
    {
     "name": "stdout",
     "output_type": "stream",
     "text": [
      "['ACGTTGCATGTCGCATGATGCATGAGAGCT', '4']\n"
     ]
    }
   ],
   "source": [
    "samp=\"\"\"ACGTTGCATGTCGCATGATGCATGAGAGCT\n",
    "4\"\"\"\n",
    "lines=samp.splitlines()\n",
    "print(lines)"
   ]
  },
  {
   "cell_type": "code",
   "execution_count": 9,
   "metadata": {},
   "outputs": [
    {
     "name": "stdout",
     "output_type": "stream",
     "text": [
      "GACCATCAAAACTGATAAACTACTTAAAAATCAGT\n",
      "AAA\n"
     ]
    }
   ],
   "source": [
    "Text=lines[0].strip()\n",
    "Pattern=lines[1].strip()\n",
    "print(Text)\n",
    "print(Pattern)"
   ]
  },
  {
   "cell_type": "code",
   "execution_count": 10,
   "metadata": {},
   "outputs": [
    {
     "data": {
      "text/plain": [
       "6"
      ]
     },
     "execution_count": 10,
     "metadata": {},
     "output_type": "execute_result"
    }
   ],
   "source": [
    "def PatternCount(Text, Pattern):\n",
    "    count = 0\n",
    "    for i in range(len(Text)-len(Pattern)+1):\n",
    "        \n",
    "        #print(Text[i:i+len(Pattern)])\n",
    "        #print(Pattern)\n",
    "        if Text[i:i+len(Pattern)]==Pattern:\n",
    "            count += 1\n",
    "    return count\n",
    "PatternCount(Text,Pattern)"
   ]
  },
  {
   "cell_type": "code",
   "execution_count": 14,
   "metadata": {},
   "outputs": [
    {
     "data": {
      "text/plain": [
       "'GAC'"
      ]
     },
     "execution_count": 14,
     "metadata": {},
     "output_type": "execute_result"
    }
   ],
   "source": [
    "Text[0:0+len(Pattern)]"
   ]
  },
  {
   "cell_type": "code",
   "execution_count": 47,
   "metadata": {},
   "outputs": [],
   "source": [
    "f=open(\"dataset_30272_13.txt\",\"r\")\n",
    "lines=f.readlines()"
   ]
  },
  {
   "cell_type": "code",
   "execution_count": 48,
   "metadata": {},
   "outputs": [
    {
     "data": {
      "text/plain": [
       "'ACCTATAATGATCATTCAGCATGCCACCCGCATATGTCATGCCACCCGCATATGTCATATGATCAATATGTCATATGATCAATATGTCATATGATCAACCTATATTCAGCATATGATCAATGATCAGCCACCCGCGCCACCCGCTTCAGCATGCCACCCGCATATGTCATACCTATAACCTATAATGATCAACCTATATTCAGCATTTCAGCATACCTATATTCAGCATATGATCAACCTATATTCAGCATACCTATAATGATCAATGATCAATGATCAATATGTCATATATGTCATACCTATAATATGTCATTTCAGCATATATGTCATACCTATAATGATCAGCCACCCGCTTCAGCATATGATCAATATGTCATACCTATAATATGTCATTTCAGCATATGATCAGCCACCCGCTTCAGCATATATGTCATTTCAGCATATATGTCATGCCACCCGCGCCACCCGCACCTATAGCCACCCGCACCTATAATATGTCATATATGTCATGCCACCCGCATATGTCATACCTATAATGATCAATGATCAGCCACCCGCTTCAGCATTTCAGCATATATGTCATACCTATAGCCACCCGCTTCAGCATACCTATAACCTATAATGATCAGCCACCCGCACCTATAATATGTCATTTCAGCATATATGTCATATGATCATTCAGCATACCTATATTCAGCATTTCAGCATACCTATATTCAGCATGCCACCCGCGCCACCCGCACCTATATTCAGCATGCCACCCGCATGATCAATGATCATTCAGCATATGATCAACCTATAATGATCAATGATCAACCTATAACCTATA'"
      ]
     },
     "execution_count": 48,
     "metadata": {},
     "output_type": "execute_result"
    }
   ],
   "source": [
    "Text=lines[0].strip()\n",
    "Text\n"
   ]
  },
  {
   "cell_type": "code",
   "execution_count": 49,
   "metadata": {},
   "outputs": [
    {
     "name": "stdout",
     "output_type": "stream",
     "text": [
      "[7, 1, 1, 1, 1, 1, 2, 3, 3, 1, 1, 1, 1, 3, 4, 4, 4, 4, 3, 5, 4, 4, 4, 4, 4, 4, 4, 1, 1, 1, 1, 3, 3, 3, 3, 3, 2, 5, 4, 4, 4, 4, 4, 4, 4, 3, 1, 1, 1, 4, 4, 4, 3, 2, 2, 3, 3, 3, 4, 4, 4, 4, 3, 2, 2, 4, 4, 4, 3, 2, 2, 3, 3, 3, 4, 4, 4, 4, 3, 2, 2, 4, 4, 4, 3, 1, 1, 3, 3, 3, 5, 3, 3, 3, 3, 3, 3, 7, 7, 3, 2, 2, 2, 3, 5, 5, 4, 2, 1, 1, 1, 1, 6, 2, 2, 2, 2, 2, 4, 5, 5, 5, 1, 1, 1, 1, 3, 3, 3, 3, 3, 1, 1, 1, 1, 5, 5, 5, 5, 1, 1, 1, 1, 1, 4, 4, 4, 4, 3, 5, 4, 4, 4, 4, 4, 4, 4, 3, 2, 2, 2, 6, 6, 6, 5, 1, 1, 2, 2, 2, 3, 2, 2, 2, 2, 2, 3, 7, 4, 1, 1, 1, 1, 2, 5, 3, 3, 3, 3, 3, 3, 7, 7, 2, 2, 2, 2, 2, 3, 3, 3, 3, 2, 2, 2, 2, 5, 5, 3, 3, 3, 3, 3, 3, 7, 7, 3, 2, 2, 2, 3, 5, 5, 4, 2, 2, 3, 3, 3, 5, 3, 3, 3, 3, 3, 3, 7, 7, 3, 1, 1, 1, 2, 5, 5, 2, 1, 1, 3, 3, 3, 7, 4, 3, 3, 3, 3, 4, 6, 3, 2, 1, 1, 1, 4, 6, 3, 2, 1, 1, 1, 1, 4, 4, 4, 4, 3, 1, 2, 2, 2, 2, 2, 2, 1, 3, 3, 3, 6, 6, 6, 5, 4, 2, 2, 2, 2, 4, 4, 4, 3, 3, 3, 3, 4, 4, 4, 4, 4, 4, 4, 4, 4, 5, 5, 5, 5, 3, 3, 3, 3, 6, 6, 6, 5, 4, 2, 3, 3, 3, 7, 2, 2, 2, 2, 2, 4, 5, 5, 5, 3, 3, 3, 4, 5, 5, 5, 5, 3, 2, 1, 1, 1, 5, 5, 4, 2, 1, 3, 3, 3, 4, 4, 4, 4, 1, 1, 1, 6, 6, 6, 5, 4, 2, 2, 2, 2, 4, 4, 4, 3, 3, 3, 3, 4, 4, 4, 4, 4, 4, 1, 1, 1, 5, 5, 1, 1, 1, 1, 1, 1, 5, 5, 5, 3, 3, 3, 4, 5, 5, 5, 5, 3, 2, 1, 1, 1, 5, 5, 5, 5, 1, 1, 1, 1, 4, 4, 4, 4, 4, 4, 4, 4, 4, 5, 5, 5, 5, 1, 2, 2, 2, 3, 3, 3, 3, 3, 1, 2, 2, 2, 3, 3, 3, 3, 3, 2, 2, 2, 2, 4, 4, 4, 1, 1, 1, 1, 1, 1, 2, 2, 2, 1, 1, 1, 2, 4, 4, 4, 2, 2, 2, 2, 2, 2, 4, 4, 4, 1, 1, 1, 2, 2, 2, 2, 2, 2, 1, 2, 2, 2, 3, 3, 3, 3, 3, 2, 5, 4, 4, 4, 4, 4, 4, 4, 3, 2, 2, 2, 6, 6, 6, 5, 4, 2, 3, 3, 3, 7, 4, 3, 3, 3, 3, 4, 6, 2, 2, 2, 2, 2, 4, 5, 5, 5, 3, 3, 3, 4, 5, 5, 5, 5, 1, 1, 1, 1, 1, 3, 3, 3, 3, 1, 4, 4, 4, 5, 5, 5, 5, 3, 3, 3, 3, 6, 6, 6, 1, 1, 1, 1, 1, 1, 2, 2, 2, 1, 1, 1, 4, 5, 5, 5, 5, 3, 1, 1, 1, 1, 5, 5, 2, 1, 1, 2, 2, 2, 3, 2, 2, 2, 2, 2, 3, 7, 2, 2, 2, 2, 2, 4, 5, 5, 5, 1, 1, 1, 2, 4, 4, 4, 2, 2, 2, 2, 2, 2, 4, 4, 4, 3, 3, 3, 3, 4, 4, 4, 4, 4, 4, 4, 4, 4, 5, 5, 5, 5, 3, 1, 1, 1, 4, 4, 4, 1, 1, 1, 1, 1, 1, 3, 3, 2, 1, 1, 1, 2, 5, 5, 3, 3, 3, 3, 3, 3, 7, 7, 2, 2, 2, 2, 2, 3, 3, 3, 3, 2, 2, 2, 2, 5, 5, 3, 3, 3, 3, 3, 3, 7, 7, 2, 2, 2, 2, 3, 4, 4, 4, 4, 1, 2, 2, 2, 3, 3, 3, 3, 3, 2, 2, 2, 2, 4, 4, 4, 1, 1, 1, 1, 1, 1, 7, 7, 2, 2, 2, 2, 3, 4, 4, 4, 4, 3, 5, 1, 1, 1, 1, 1, 1, 1, 1, 1, 1, 1, 6, 1, 1, 1, 1, 1, 2, 3, 3, 2, 1, 1, 1, 3, 5, 5, 4, 2, 2, 3, 3, 3, 5, 2, 1, 1, 1, 1, 3, 7, 4, 3, 3, 3, 3, 4, 6, 3, 1, 1, 1, 1, 2, 5, 2, 1, 1, 1, 1, 1, 3]\n",
      "7\n",
      "ACCTATAATGATCA ACCTATATTCAGCA CCTATATTCAGCAT "
     ]
    }
   ],
   "source": [
    "Text=lines[0].strip()\n",
    "k=int(lines[1].strip())\n",
    "def FrequentKmer(Text,k):\n",
    "    FrequentPatterns=set()\n",
    "    counts=[]\n",
    "    for i in range(len(Text)-k+1):\n",
    "        counts.append(PatternCount(Text, Text[i:i+k]))\n",
    "    print(counts)\n",
    "    max_count=max(counts)\n",
    "    print(max_count)\n",
    "    for i in range(len(Text)-k+1):\n",
    "        if counts[i]==max_count:\n",
    "            FrequentPatterns.add(Text[i:i+k])\n",
    "    return FrequentPatterns\n",
    "outs=FrequentKmer(Text, k)\n",
    "for o in outs:\n",
    "    print(o, end=\" \")"
   ]
  },
  {
   "cell_type": "code",
   "execution_count": 59,
   "metadata": {},
   "outputs": [
    {
     "data": {
      "text/plain": [
       "True"
      ]
     },
     "execution_count": 59,
     "metadata": {},
     "output_type": "execute_result"
    }
   ],
   "source": [
    "a={}\n",
    "a[\"a\"]=1\n",
    "a.get(\"b\")==None"
   ]
  },
  {
   "cell_type": "code",
   "execution_count": 5,
   "metadata": {},
   "outputs": [
    {
     "name": "stdout",
     "output_type": "stream",
     "text": [
      "ACGTTGCATGTCGCATGATGCATGAGAGCT\n"
     ]
    },
    {
     "data": {
      "text/plain": [
       "{'ACGT': 1,\n",
       " 'CGTT': 1,\n",
       " 'GTTG': 1,\n",
       " 'TTGC': 1,\n",
       " 'TGCA': 2,\n",
       " 'GCAT': 3,\n",
       " 'CATG': 3,\n",
       " 'ATGT': 1,\n",
       " 'TGTC': 1,\n",
       " 'GTCG': 1,\n",
       " 'TCGC': 1,\n",
       " 'CGCA': 1,\n",
       " 'ATGA': 2,\n",
       " 'TGAT': 1,\n",
       " 'GATG': 1,\n",
       " 'ATGC': 1,\n",
       " 'TGAG': 1,\n",
       " 'GAGA': 1,\n",
       " 'AGAG': 1,\n",
       " 'GAGC': 1,\n",
       " 'AGCT': 1}"
      ]
     },
     "execution_count": 5,
     "metadata": {},
     "output_type": "execute_result"
    }
   ],
   "source": [
    "Text=lines[0].strip()\n",
    "print(Text)\n",
    "k=int(lines[1].strip())\n",
    "def FrequencyTable(Text:str,k:int):\n",
    "    freqMap={}\n",
    "    n=len(Text)\n",
    "    for i in range(n-k+1):\n",
    "        Pattern=Text[i:i+k]\n",
    "        if freqMap.get(Pattern)==None:\n",
    "            freqMap[Pattern]=1\n",
    "        else:\n",
    "            freqMap[Pattern]+=1\n",
    "    return freqMap\n",
    "FrequencyTable(Text, k)"
   ]
  },
  {
   "cell_type": "code",
   "execution_count": 75,
   "metadata": {},
   "outputs": [
    {
     "data": {
      "text/plain": [
       "3"
      ]
     },
     "execution_count": 75,
     "metadata": {},
     "output_type": "execute_result"
    }
   ],
   "source": [
    "dicx=FrequencyTable(Text, k)\n",
    "def MaxMap(freqMap):\n",
    "    return max(freqMap.values())\n",
    "MaxMap(dicx)"
   ]
  },
  {
   "cell_type": "code",
   "execution_count": 77,
   "metadata": {},
   "outputs": [
    {
     "data": {
      "text/plain": [
       "['GCAT', 'CATG']"
      ]
     },
     "execution_count": 77,
     "metadata": {},
     "output_type": "execute_result"
    }
   ],
   "source": [
    "def BetterFrequentWords(Text,k):\n",
    "    freqentPatterns=[]\n",
    "    freqMap=FrequencyTable(Text,k)\n",
    "    max=MaxMap(freqMap)\n",
    "    for Pattern in freqMap.keys():\n",
    "        if freqMap[Pattern]==max:\n",
    "            freqentPatterns.append(Pattern)\n",
    "    return freqentPatterns\n",
    "BetterFrequentWords(Text, k)"
   ]
  }
 ],
 "metadata": {
  "kernelspec": {
   "display_name": "summer2024",
   "language": "python",
   "name": "python3"
  },
  "language_info": {
   "codemirror_mode": {
    "name": "ipython",
    "version": 3
   },
   "file_extension": ".py",
   "mimetype": "text/x-python",
   "name": "python",
   "nbconvert_exporter": "python",
   "pygments_lexer": "ipython3",
   "version": "3.10.14"
  }
 },
 "nbformat": 4,
 "nbformat_minor": 2
}
