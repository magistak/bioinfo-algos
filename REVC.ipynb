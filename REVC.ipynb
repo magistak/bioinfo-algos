{
 "cells": [
  {
   "cell_type": "code",
   "execution_count": 1,
   "metadata": {},
   "outputs": [
    {
     "data": {
      "text/plain": [
       "'AAAACCCGGT'"
      ]
     },
     "execution_count": 1,
     "metadata": {},
     "output_type": "execute_result"
    }
   ],
   "source": [
    "samp=\"\"\"AAAACCCGGT\"\"\"\n",
    "line=samp.strip()\n",
    "line"
   ]
  },
  {
   "cell_type": "code",
   "execution_count": 5,
   "metadata": {},
   "outputs": [
    {
     "data": {
      "text/plain": [
       "{'A': 'T', 'T': 'A', 'C': 'G', 'G': 'C'}"
      ]
     },
     "execution_count": 5,
     "metadata": {},
     "output_type": "execute_result"
    }
   ],
   "source": [
    "complement=dict(A=\"T\",T=\"A\",C=\"G\",G=\"C\")\n",
    "complement"
   ]
  },
  {
   "cell_type": "code",
   "execution_count": 8,
   "metadata": {},
   "outputs": [
    {
     "data": {
      "text/plain": [
       "'ACCGGGTTTT'"
      ]
     },
     "execution_count": 8,
     "metadata": {},
     "output_type": "execute_result"
    }
   ],
   "source": [
    "\"\".join(reversed([complement[b] for b in line]))\n"
   ]
  },
  {
   "cell_type": "code",
   "execution_count": 11,
   "metadata": {},
   "outputs": [],
   "source": [
    "with open(\"rosalind_revc.txt\",\"r\") as f:\n",
    "    line=f.read().strip()\n",
    "    out=\"\".join(reversed([complement[b] for b in line]))\n",
    "with open(\"sol_rosalind_revc.txt\",\"w\") as f:\n",
    "    f.write(out)\n"
   ]
  },
  {
   "cell_type": "code",
   "execution_count": 2,
   "metadata": {},
   "outputs": [
    {
     "data": {
      "text/plain": [
       "'ACCGGGTTTT'"
      ]
     },
     "execution_count": 2,
     "metadata": {},
     "output_type": "execute_result"
    }
   ],
   "source": [
    "def rc(data):\n",
    "    line=data.strip()\n",
    "    complement=dict(A=\"T\",T=\"A\",C=\"G\",G=\"C\")\n",
    "    return \"\".join(reversed([complement[b] for b in line]))\n",
    "rc(samp)\n"
   ]
  },
  {
   "cell_type": "code",
   "execution_count": 4,
   "metadata": {},
   "outputs": [],
   "source": [
    "with open(\"dataset_30273_2.txt\",\"r\") as f:\n",
    "    data=f.read()\n",
    "with open(\"solve_dataset_30273_2.txt\",\"w\") as f:\n",
    "    f.write(rc(data))"
   ]
  }
 ],
 "metadata": {
  "kernelspec": {
   "display_name": "summer2024",
   "language": "python",
   "name": "python3"
  },
  "language_info": {
   "codemirror_mode": {
    "name": "ipython",
    "version": 3
   },
   "file_extension": ".py",
   "mimetype": "text/x-python",
   "name": "python",
   "nbconvert_exporter": "python",
   "pygments_lexer": "ipython3",
   "version": "3.10.14"
  }
 },
 "nbformat": 4,
 "nbformat_minor": 2
}
