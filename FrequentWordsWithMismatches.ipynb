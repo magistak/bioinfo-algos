{
 "cells": [
  {
   "cell_type": "markdown",
   "metadata": {},
   "source": [
    "# Neighbors(Pattern,d)"
   ]
  },
  {
   "cell_type": "markdown",
   "metadata": {},
   "source": [
    "```\n",
    "Neighbors(Pattern, d)\n",
    "        if d = 0\n",
    "            return {Pattern}\n",
    "        if |Pattern| = 1 \n",
    "            return {A, C, G, T}\n",
    "        Neighborhood ← an empty set\n",
    "        SuffixNeighbors ← Neighbors(Suffix(Pattern), d)\n",
    "        for each string Text from SuffixNeighbors\n",
    "            if HammingDistance(Suffix(Pattern), Text) < d\n",
    "                for each nucleotide x\n",
    "                    add x • Text to Neighborhood\n",
    "            else\n",
    "                add FirstSymbol(Pattern) • Text to Neighborhood\n",
    "        return Neighborhood```"
   ]
  },
  {
   "cell_type": "code",
   "execution_count": 2,
   "metadata": {},
   "outputs": [
    {
     "name": "stdout",
     "output_type": "stream",
     "text": [
      "ACG 1\n"
     ]
    }
   ],
   "source": [
    "samp=\"\"\"ACG\n",
    "1\"\"\"\n",
    "lines=samp.strip().split()\n",
    "Pattern,d=lines[0],int(lines[1])\n",
    "print(Pattern,d)"
   ]
  },
  {
   "cell_type": "code",
   "execution_count": 3,
   "metadata": {},
   "outputs": [
    {
     "data": {
      "text/plain": [
       "'CG'"
      ]
     },
     "execution_count": 3,
     "metadata": {},
     "output_type": "execute_result"
    }
   ],
   "source": [
    "Pattern[1:]"
   ]
  },
  {
   "cell_type": "code",
   "execution_count": 4,
   "metadata": {},
   "outputs": [],
   "source": [
    "def HammingDistance(st1:str, st2:str):\n",
    "    if len(st1) != len(st2):\n",
    "        raise Exception(\"Strings must be of equal length.\")\n",
    "    dist=[a for a,b in zip(st1,st2) if a!=b]\n",
    "    return len(dist)"
   ]
  },
  {
   "cell_type": "code",
   "execution_count": 5,
   "metadata": {},
   "outputs": [
    {
     "data": {
      "text/plain": [
       "{'AAG', 'ACA', 'ACC', 'ACG', 'ACT', 'AGG', 'ATG', 'CCG', 'GCG', 'TCG'}"
      ]
     },
     "execution_count": 5,
     "metadata": {},
     "output_type": "execute_result"
    }
   ],
   "source": [
    "def Neighbors(Pattern:str,d:int):\n",
    "    if d==0:\n",
    "        return set(Pattern)\n",
    "    if len(Pattern)==1:\n",
    "        return {'A','C','G','T'}\n",
    "    Neighborhood=set()\n",
    "    SuffixNeighbors=Neighbors(Pattern[1:],d)\n",
    "    for Text in SuffixNeighbors:\n",
    "        if HammingDistance(Text, Pattern[1:])<d:\n",
    "            for n in ['A','C','G','T']:\n",
    "                Neighborhood.add(n+Text)\n",
    "        else:\n",
    "            Neighborhood.add(Pattern[0]+Text)\n",
    "    return Neighborhood\n",
    "Neighbors(\"ACG\", 1)"
   ]
  },
  {
   "cell_type": "code",
   "execution_count": 6,
   "metadata": {},
   "outputs": [
    {
     "data": {
      "text/plain": [
       "True"
      ]
     },
     "execution_count": 6,
     "metadata": {},
     "output_type": "execute_result"
    }
   ],
   "source": [
    "output=\"\"\"CCG TCG GCG AAG ATG AGG ACA ACC ACT ACG\"\"\"\n",
    "set(output.split())==Neighbors(\"ACG\", 1)"
   ]
  },
  {
   "cell_type": "code",
   "execution_count": 7,
   "metadata": {},
   "outputs": [
    {
     "data": {
      "text/plain": [
       "'AAACATTCC\\n2\\n'"
      ]
     },
     "execution_count": 7,
     "metadata": {},
     "output_type": "execute_result"
    }
   ],
   "source": [
    "with open(\"dataset_30282_4.txt\",\"r\") as f:\n",
    "    data=f.read()\n",
    "data"
   ]
  },
  {
   "cell_type": "code",
   "execution_count": 8,
   "metadata": {},
   "outputs": [
    {
     "data": {
      "text/plain": [
       "'AAAAATCCC AATCATTGC AAAGATCCC AAATACTCC CAACATCCC ACACATCCC AAACAGTAC AAACATACC ACAGATTCC CAATATTCC AAACCTACC ATACATTTC AATCATTAC AAACTTGCC GAACAATCC AAACCGTCC ATACATTCG TAACATGCC AGACATTCT AAAGATGCC AGACACTCC AAACAAACC AAATATTGC AAACTTTCC AAGCATTCT TGACATTCC AAAAAGTCC TCACATTCC AAACGTACC GAACCTTCC AAACATCCG ACACATGCC CAACATTCC AAACGTTCT AAACATTAT AAACATGGC AAACCTGCC AAATATGCC AAACATTGC AAGTATTCC ATACATTCC AAACATTTA ACCCATTCC AAACAACCC AAACCTTCA AAACAATCG ACACATTCC AACCATCCC AAACGTTCG AAACACTGC AAATATTCA AGACATTTC GAACATTGC ATACAGTCC AAACAGCCC AAACATTGT AAACACTCT CCACATTCC AAAAATTGC CAACATTAC AAGCAGTCC AAAGACTCC TAACATTCC AAACATCTC AATCACTCC AAAAATTAC TAACTTTCC AAAGATTCT AAACAATAC AAACATTCC AATCATGCC AAACGTCCC TAACATCCC AGACTTTCC AAACATTAG AGACATTCC ACACACTCC AATCATTCG TAACATACC AAAAATACC AAAGATTTC CAACATTGC AAACATCCT ATGCATTCC AAATATTAC AAACCTCCC AAATATTTC AAACACACC AAGCATTCA CAACTTTCC GAACGTTCC GAACATGCC CATCATTCC AAAAAATCC AAACACTCA AAAGATACC ATACATTGC ACGCATTCC TAACATTTC AAACCTTCT AAACATTCG AAAAATTCA AAACATACT AAACAGTGC AACCATTCG ACACATTAC AATCTTTCC AAGCACTCC AGACATTGC AAGCATGCC AACCATTCC TAACACTCC AGACAGTCC AATCAGTCC TTACATTCC AAACTTTTC AAGCATTGC AACCATTAC AAAGAATCC AAACAGTCT TAACCTTCC GAACTTTCC CAACATACC AAAAATGCC AGGCATTCC AAACGCTCC AACCCTTCC ACATATTCC AACCATTTC AAAGAGTCC ATAAATTCC TAGCATTCC GAACATTCG AAACCTTTC AAGCATACC TAACATTCT TAACATTCG GAACATCCC AAACTTTCA ACACATACC AAACGTTGC AAACTGTCC ATACATTCT AAATATACC AAGCATTCC ACACATTCA AAACAGTTC GACCATTCC AAACAATCT AAGCGTTCC AATTATTCC AAACGTTAC AAACTTTGC AAACATAAC AAACATGCT CAACATTCA AAACATCCC AATCAATCC ATTCATTCC ATACATGCC ACTCATTCC AAACAGGCC TAACGTTCC AAACATGCC AAACATGCA AACGATTCC AAACAATCC AATCGTTCC GAACACTCC AACTATTCC TAACATTAC ATACATACC AAACTTACC AAACACTCC CAGCATTCC AGACATTCA ATACATTCA ACAAATTCC AAGCATTAC GTACATTCC AATCATTCC AACCATACC AGACATTAC AACCAGTCC CAACGTTCC ATCCATTCC AAACAGACC GAGCATTCC TAACATTCA AAACATTGG AAACATGTC TAAGATTCC ACACATTTC AGACATTCG AAATCTTCC AAACGTTCC AAATATCCC AAACATCGC AATCATTCA ATAGATTCC ATATATTCC AAACATTAA AGACATCCC AACCATGCC AAACATTCT AACCATTGC ATACAATCC ACACTTTCC AAGAATTCC AAAACTTCC AAACCTTGC AAACCTTAC CAAGATTCC ATACATCCC AAACGTTCA AAGCATTTC TACCATTCC AAACTTTCG AACCACTCC AAACACGCC GAACATTAC AATGATTCC AATAATTCC AAGCATCCC AACCATTCT AAAAGTTCC CAACAGTCC CAAAATTCC AAACATCAC AATCATTTC AAACGGTCC CGACATTCC AGACATGCC AAGCATTCG AAACATTCA AAACGTGCC AGCCATTCC TAACAATCC AAACAGTCC AAATTTTCC AAACTATCC AAACACTCG AAACCATCC AAAAATTTC AAAAATTCG GAACATTCT CAACCTTCC GGACATTCC AAAAATTCC AAACAATGC AAATATTCT AAACAAGCC AGATATTCC AAACAGTCA AAAAACTCC AAAAATTCT AACCAATCC AAACACCCC AAAGCTTCC AACAATTCC CAACATTCT TAACATTGC AAGCTTTCC AATCCTTCC ACACAGTCC AAATAGTCC AAACATCCA GAATATTCC AACCATTCA AAACATAGC ACACATTGC TAAAATTCC AAACACTTC AACCGTTCC AGAGATTCC AAATGTTCC CAACAATCC AGTCATTCC AAACATTTG GAACAGTCC AAACTTTAC TATCATTCC CAACATTTC AAACTTTCT AAACCTTCC AAATATTCC AAACTCTCC AACCTTTCC AAACATGAC CACCATTCC CAACATGCC AAACCCTCC GCACATTCC GAACATTCA AAACATATC ATACCTTCC AAAGATTCC AAACATACG AAAATTTCC CAACATTCG ACACGTTCC AAACCTTCG AAACATTTT AAACAATTC ACACATTCG AAATATTCG AAGCCTTCC ACACAATCC AAACATACA GAACATTTC GAAAATTCC AATCATACC TAACAGTCC AATCATTCT AAACAATCA AAACATTAC AGACAATCC AAAGTTTCC AAACATGCG ATACGTTCC AAACATTTC AGAAATTCC AAACATTGA AAAGATTAC GAAGATTCC AAGCAATCC AATCATCCC ATACATTAC AAACGTTTC AAACACTAC AAAGGTTCC ATACTTTCC CAACACTCC AGACGTTCC GATCATTCC TAATATTCC AAGGATTCC AAAGATTCA AAAGATTGC AAAGATTCG ACACCTTCC AGACATACC AAACAGTCG AAATAATCC CTACATTCC ATACACTCC GAACATTCC AAACGATCC ACACATTCT AGACCTTCC GAACATACC AAACTTCCC'"
      ]
     },
     "execution_count": 8,
     "metadata": {},
     "output_type": "execute_result"
    }
   ],
   "source": [
    "\" \".join(list(Neighbors(\"AAACATTCC\",2)))"
   ]
  },
  {
   "cell_type": "markdown",
   "metadata": {},
   "source": [
    "# FrequentWordsWithMismatches(Text, k, d)"
   ]
  },
  {
   "cell_type": "markdown",
   "metadata": {},
   "source": [
    "```\n",
    "FrequentWordsWithMismatches(Text, k, d)\n",
    "    Patterns ← an array of strings of length 0\n",
    "    freqMap ← empty map\n",
    "    n ← |Text|\n",
    "    for i ← 0 to n - k\n",
    "        Pattern ← Text(i, k)\n",
    "        neighborhood ← Neighbors(Pattern, d)\n",
    "        for j ← 0 to |neighborhood| - 1\n",
    "            neighbor ← neighborhood[j]\n",
    "            if freqMap[neighbor] doesn't exist\n",
    "                freqMap[neighbor] ← 1\n",
    "            else\n",
    "                freqMap[neighbor] ← freqMap[neighbor] + 1\n",
    "    m ← MaxMap(freqMap)\n",
    "    for every key Pattern in freqMap\n",
    "        if freqMap[Pattern] = m\n",
    "            append Pattern to Patterns\n",
    "    return Patterns```"
   ]
  },
  {
   "cell_type": "code",
   "execution_count": 9,
   "metadata": {},
   "outputs": [
    {
     "data": {
      "text/plain": [
       "{'AGA', 'AGC', 'AGG', 'AGT', 'GAG'}"
      ]
     },
     "execution_count": 9,
     "metadata": {},
     "output_type": "execute_result"
    }
   ],
   "source": [
    "def FrequentWordsWithMismatches(Text, k, d):\n",
    "    freqMap=dict()\n",
    "    for i in range(len(Text)-k):\n",
    "        Neighborhood=Neighbors(Text[i:i+k],d)\n",
    "        for Neighbor in Neighborhood:\n",
    "            freqMap[Neighbor]=freqMap.get(Neighbor,0)+1\n",
    "    m=max(freqMap.values())\n",
    "    return set([k for k,v in freqMap.items() if v==m])\n",
    "FrequentWordsWithMismatches(\"AACGGGGCT\",3,2)"
   ]
  },
  {
   "cell_type": "code",
   "execution_count": 22,
   "metadata": {},
   "outputs": [
    {
     "data": {
      "text/plain": [
       "'CAGTT'"
      ]
     },
     "execution_count": 22,
     "metadata": {},
     "output_type": "execute_result"
    }
   ],
   "source": [
    "def rc(data):\n",
    "    line=data.strip()\n",
    "    complement=dict(A=\"T\",T=\"A\",C=\"G\",G=\"C\")\n",
    "    return \"\".join(reversed([complement[b] for b in line]))\n",
    "rc(\"AACTG\")"
   ]
  },
  {
   "cell_type": "code",
   "execution_count": 54,
   "metadata": {},
   "outputs": [
    {
     "data": {
      "text/plain": [
       "('ACGTTGCATGTCGCATGATGCATGAGAGCT', 4, 1)"
      ]
     },
     "execution_count": 54,
     "metadata": {},
     "output_type": "execute_result"
    }
   ],
   "source": [
    "samp=\"\"\"ACGTTGCATGTCGCATGATGCATGAGAGCT\n",
    "4 1\"\"\"\n",
    "Text,k,d=samp.split()\n",
    "k,d=map(int, (k,d))\n",
    "Text,k,d"
   ]
  },
  {
   "cell_type": "code",
   "execution_count": 19,
   "metadata": {},
   "outputs": [],
   "source": [
    "freqMap=dict()\n",
    "for i in range(len(Text)-k):\n",
    "    Neighborhood=Neighbors(Text[i:i+k],d)\n",
    "    for Neighbor in Neighborhood:\n",
    "        freqMap[Neighbor]=freqMap.get(Neighbor,0)+1\n"
   ]
  },
  {
   "cell_type": "code",
   "execution_count": 52,
   "metadata": {},
   "outputs": [
    {
     "data": {
      "text/plain": [
       "{'ACAT', 'ATGT'}"
      ]
     },
     "execution_count": 52,
     "metadata": {},
     "output_type": "execute_result"
    }
   ],
   "source": [
    "rev=[rc(o) for o in freqMap.keys()]\n",
    "revfreqMap={o:freqMap.get(o,0) for o in rev}\n",
    "sums=[sum(list(o)) for o in zip(freqMap.values(),revfreqMap.values())]\n",
    "allMap=dict(zip(freqMap.keys(),sums))|dict(zip(revfreqMap.keys(),sums))\n",
    "m=max(allMap.values())\n",
    "set([k for k,v in allMap.items() if v==m])"
   ]
  },
  {
   "cell_type": "code",
   "execution_count": 62,
   "metadata": {},
   "outputs": [
    {
     "data": {
      "text/plain": [
       "{'AAAAA', 'TTTTT'}"
      ]
     },
     "execution_count": 62,
     "metadata": {},
     "output_type": "execute_result"
    }
   ],
   "source": [
    "def revMisFreq(Text, k, d):\n",
    "    freqMap=dict()\n",
    "    for i in range(len(Text)-k):\n",
    "        Neighborhood=Neighbors(Text[i:i+k],d)\n",
    "        for Neighbor in Neighborhood:\n",
    "            freqMap[Neighbor]=freqMap.get(Neighbor,0)+1\n",
    "    rev=[rc(o) for o in freqMap.keys()]\n",
    "    revfreqMap={o:freqMap.get(o,0) for o in rev}\n",
    "    sums=[sum(list(o)) for o in zip(freqMap.values(),revfreqMap.values())]\n",
    "    allMap=dict(zip(freqMap.keys(),sums))|dict(zip(revfreqMap.keys(),sums))\n",
    "    m=max(allMap.values())\n",
    "    return set([k for k,v in allMap.items() if v==m])\n",
    "revMisFreq(Text,k,d)"
   ]
  },
  {
   "cell_type": "code",
   "execution_count": 60,
   "metadata": {},
   "outputs": [
    {
     "name": "stdout",
     "output_type": "stream",
     "text": [
      "AAAAA TTTTT "
     ]
    }
   ],
   "source": [
    "with open(\"dataset_30278_10.txt\",\"r\") as f:\n",
    "    data=f.read()\n",
    "Text,k,d=data.strip().split()\n",
    "k,d=map(int,[k,d])\n",
    "revMisFreq(Text,k,d)"
   ]
  }
 ],
 "metadata": {
  "kernelspec": {
   "display_name": "winter2024",
   "language": "python",
   "name": "python3"
  },
  "language_info": {
   "codemirror_mode": {
    "name": "ipython",
    "version": 3
   },
   "file_extension": ".py",
   "mimetype": "text/x-python",
   "name": "python",
   "nbconvert_exporter": "python",
   "pygments_lexer": "ipython3",
   "version": "3.13.1"
  }
 },
 "nbformat": 4,
 "nbformat_minor": 2
}
