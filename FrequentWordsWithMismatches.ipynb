{
 "cells": [
  {
   "cell_type": "markdown",
   "metadata": {},
   "source": [
    "# Neighbors(Pattern,d)"
   ]
  },
  {
   "cell_type": "markdown",
   "metadata": {},
   "source": [
    "```\n",
    "Neighbors(Pattern, d)\n",
    "        if d = 0\n",
    "            return {Pattern}\n",
    "        if |Pattern| = 1 \n",
    "            return {A, C, G, T}\n",
    "        Neighborhood ← an empty set\n",
    "        SuffixNeighbors ← Neighbors(Suffix(Pattern), d)\n",
    "        for each string Text from SuffixNeighbors\n",
    "            if HammingDistance(Suffix(Pattern), Text) < d\n",
    "                for each nucleotide x\n",
    "                    add x • Text to Neighborhood\n",
    "            else\n",
    "                add FirstSymbol(Pattern) • Text to Neighborhood\n",
    "        return Neighborhood```"
   ]
  },
  {
   "cell_type": "code",
   "execution_count": 3,
   "metadata": {},
   "outputs": [
    {
     "name": "stdout",
     "output_type": "stream",
     "text": [
      "ACG 1\n"
     ]
    }
   ],
   "source": [
    "samp=\"\"\"ACG\n",
    "1\"\"\"\n",
    "lines=samp.strip().split()\n",
    "Pattern,d=lines[0],int(lines[1])\n",
    "print(Pattern,d)"
   ]
  },
  {
   "cell_type": "code",
   "execution_count": 4,
   "metadata": {},
   "outputs": [
    {
     "data": {
      "text/plain": [
       "'CG'"
      ]
     },
     "execution_count": 4,
     "metadata": {},
     "output_type": "execute_result"
    }
   ],
   "source": [
    "Pattern[1:]"
   ]
  },
  {
   "cell_type": "code",
   "execution_count": 5,
   "metadata": {},
   "outputs": [],
   "source": [
    "def HammingDistance(st1:str, st2:str):\n",
    "    if len(st1) != len(st2):\n",
    "        raise Exception(\"Strings must be of equal length.\")\n",
    "    dist=[a for a,b in zip(st1,st2) if a!=b]\n",
    "    return len(dist)"
   ]
  },
  {
   "cell_type": "code",
   "execution_count": 8,
   "metadata": {},
   "outputs": [
    {
     "data": {
      "text/plain": [
       "{'AAG', 'ACA', 'ACC', 'ACG', 'ACT', 'AGG', 'ATG', 'CCG', 'GCG', 'TCG'}"
      ]
     },
     "execution_count": 8,
     "metadata": {},
     "output_type": "execute_result"
    }
   ],
   "source": [
    "def Neighbors(Pattern:str,d:int):\n",
    "    if d==0:\n",
    "        return set(Pattern)\n",
    "    if len(Pattern)==1:\n",
    "        return {'A','C','G','T'}\n",
    "    Neighborhood=set()\n",
    "    SuffixNeighbors=Neighbors(Pattern[1:],d)\n",
    "    for Text in SuffixNeighbors:\n",
    "        if HammingDistance(Text, Pattern[1:])<d:\n",
    "            for n in ['A','C','G','T']:\n",
    "                Neighborhood.add(n+Text)\n",
    "        else:\n",
    "            Neighborhood.add(Pattern[0]+Text)\n",
    "    return Neighborhood\n",
    "Neighbors(\"ACG\", 1)"
   ]
  },
  {
   "cell_type": "code",
   "execution_count": 12,
   "metadata": {},
   "outputs": [
    {
     "data": {
      "text/plain": [
       "True"
      ]
     },
     "execution_count": 12,
     "metadata": {},
     "output_type": "execute_result"
    }
   ],
   "source": [
    "output=\"\"\"CCG TCG GCG AAG ATG AGG ACA ACC ACT ACG\"\"\"\n",
    "set(output.split())==Neighbors(\"ACG\", 1)"
   ]
  },
  {
   "cell_type": "code",
   "execution_count": 13,
   "metadata": {},
   "outputs": [
    {
     "data": {
      "text/plain": [
       "'AAACATTCC\\n2\\n'"
      ]
     },
     "execution_count": 13,
     "metadata": {},
     "output_type": "execute_result"
    }
   ],
   "source": [
    "with open(\"dataset_30282_4.txt\",\"r\") as f:\n",
    "    data=f.read()\n",
    "data"
   ]
  },
  {
   "cell_type": "code",
   "execution_count": 16,
   "metadata": {},
   "outputs": [
    {
     "data": {
      "text/plain": [
       "'CAACATTAC AAAGATTAC AAACATTGT CAATATTCC AAAAGTTCC ATAAATTCC AAACATGCT AAACATTAT AAAGAGTCC AAACCCTCC AAACTTCCC AGACATTCC TAACAGTCC AAAGTTTCC ATACATCCC TAACACTCC AAGCATTCT AAAAATTGC AAACATTCC AAATATTCA AATCAGTCC AAAAATCCC AATCTTTCC AAACACGCC AAACATTCG AAACCTTTC AACGATTCC AAATACTCC AAGCAGTCC AAACATACC AAGGATTCC TAACATACC GAACATTCA AAACATAAC CAACATGCC AAACATGTC GAACATTCG GAACATTCC ACACATTTC GATCATTCC ACGCATTCC AATCATTGC AAACATTGC CAACATTCT ACTCATTCC AGACACTCC AAACTTTCC AAACCTACC AAACCTTCA TAACATTGC ATACACTCC AAGCATTCG AACCGTTCC ACAGATTCC AAACTTTTC AACCATTCA GAAGATTCC CAGCATTCC AATCGTTCC AACCATTCG ATCCATTCC AAAGATTCA AAACATGCG AACCATACC AAGCATCCC ATGCATTCC AAACCTTCT AAACACTCT AGACAGTCC ATACATGCC AAACAGTTC ATTCATTCC AAACTTTGC AAACATTGA AAACGTTAC AAATATTCC AAACACTTC AAGCGTTCC AAACTGTCC ACACATTCT AAACAAGCC AACCATTGC ACACATCCC GAACATACC AAAGCTTCC ATACATTGC AATCATACC AGACCTTCC AATTATTCC TAACATCCC CAACATTCG AAACACTGC TACCATTCC AAAGATTCC ACACATGCC AAACATTCA TAAGATTCC AAAGGTTCC AAACATCAC AAAAATACC AAAAATTCT AAGCATTCA CAAAATTCC AACCCTTCC CAACATTTC GAACAGTCC AAAGACTCC ATACATTCG CTACATTCC AGACATTTC AAAAATGCC AAACGTTCA ACACATTGC AAACTTGCC AAATATTAC AATGATTCC AAACACTCG AAACATTAA AAATATCCC AAACACTAC AGGCATTCC AACCTTTCC AAACTTTCG ATACGTTCC AAACATGAC TAACATTCA CAACAGTCC AAAGATACC CAACATCCC AACCATGCC AAACATTAG ATACCTTCC AATCATGCC AAGCATTCC TCACATTCC AAGCCTTCC ATATATTCC TAACGTTCC GAACATTAC AGACAATCC AAAGATTCG GAGCATTCC AGACGTTCC TAATATTCC AGAAATTCC AAACGTACC AACTATTCC AAACATTTA AAATCTTCC CAACAATCC AAGAATTCC CAACCTTCC AAAATTTCC AAACGTTCG AAACAGTCT AATCATTCA CAACGTTCC CAACATTCA GAACACTCC AAACACCCC AAACAATGC GAACATCCC AAACATACG ATACAATCC AATCATTCT ACAAATTCC CATCATTCC AAAAATTTC AAACAGTGC AAATATGCC ATACATACC TAACATTCG AAACACTCA AAACGGTCC ACACTTTCC ATACATTCT ACACATTCG AAACATACT AAATAATCC AAACGTTCT AAACAACCC ACACATACC AATCATCCC GAACCTTCC AAACAGTCA AAATAGTCC AAAGATTGC AAACTTACC AAACATATC GAACAATCC CAAGATTCC AAAAATTCC AAGCATTGC AGATATTCC AGACTTTCC AATCAATCC TTACATTCC AGACATACC AAATGTTCC TATCATTCC AAACATTGG GGACATTCC AACCATTCT GACCATTCC GAATATTCC AAACATTAC AACCATTTC GAACATTGC TAACCTTCC AAGCTTTCC AAACCTTCC AACCATTCC AATCATTCG AAATATTTC ATACATTCA AAACACACC AAACGCTCC ATACATTAC AAGCATACC AAAAACTCC AAACAGTCG AGACATTAC AAACAATCC GTACATTCC AACCATTAC AAACATGGC AAACCTTCG AAAGATTCT AAACATACA CAACTTTCC CAACATTCC TAAAATTCC AAAGATGCC ATAGATTCC AAACATGCC AAAGATCCC AAACATTTT AAACCTGCC AAACATAGC ACACATTCC TAACATGCC GAAAATTCC AAATATTGC AAACCATCC AAAAATTAC AAACTTTAC AAGCATTTC ATACATTTC AAAACTTCC AAACAGCCC AACCAATCC AAACTATCC ACACATTCA AAACGTCCC ACACCTTCC AGCCATTCC AAACAGGCC AGAGATTCC AAACATCCG ACACGTTCC AAAAAATCC GCACATTCC TAACATTTC AGACATTCA AACAATTCC GAACATTTC AAACGTTGC CACCATTCC GAACTTTCC AAACATCCT AGTCATTCC AAACAATCT AAGCATGCC AAACTTTCT AAACAGACC AAACCTCCC TAACTTTCC AAAAATTCG CAACACTCC AGACATTGC AATCATTAC AAACGATCC AATCCTTCC ATACATTCC AAACAGTAC ACATATTCC AAACATGCA AAGCATTAC AAACATCGC AAACTCTCC ACACAGTCC AAACATTTG AATCATTTC AAACCGTCC AAGTATTCC AGACATTCG AAGCAATCC AAACAAACC ACACAATCC AACCACTCC ACACATTAC AGACATTCT AAACAATAC AAGCACTCC CAACATTGC AATCACTCC AAACATTCT AAACCTTGC GAACATGCC AAACGTTCC TGACATTCC AAATTTTCC ACCCATTCC AACCAGTCC AAATATTCT AAACGTGCC CAACATACC GAACATTCT TAACAATCC ACACACTCC AAACATCTC AACCATCCC AAACAATCG AAACAGTCC CGACATTCC TAGCATTCC AAACGTTTC AAATATACC AAACCTTAC AAAGAATCC AATAATTCC AAACATCCA AGACATCCC CCACATTCC AAAGATTTC AAACACTCC AAACAATCA ATACAGTCC GAACGTTCC TAACATTAC ATACTTTCC TAACATTCC AAAAATTCA AAACTTTCA AAATATTCG AAAAAGTCC AAACAATTC TAACATTCT AGACATGCC AAACATTTC AAACATCCC AATCATTCC'"
      ]
     },
     "execution_count": 16,
     "metadata": {},
     "output_type": "execute_result"
    }
   ],
   "source": [
    "\" \".join(list(Neighbors(\"AAACATTCC\",2)))"
   ]
  },
  {
   "cell_type": "markdown",
   "metadata": {},
   "source": [
    "# FrequentWordsWithMismatches(Text, k, d)"
   ]
  },
  {
   "cell_type": "markdown",
   "metadata": {},
   "source": [
    "```\n",
    "FrequentWordsWithMismatches(Text, k, d)\n",
    "    Patterns ← an array of strings of length 0\n",
    "    freqMap ← empty map\n",
    "    n ← |Text|\n",
    "    for i ← 0 to n - k\n",
    "        Pattern ← Text(i, k)\n",
    "        neighborhood ← Neighbors(Pattern, d)\n",
    "        for j ← 0 to |neighborhood| - 1\n",
    "            neighbor ← neighborhood[j]\n",
    "            if freqMap[neighbor] doesn't exist\n",
    "                freqMap[neighbor] ← 1\n",
    "            else\n",
    "                freqMap[neighbor] ← freqMap[neighbor] + 1\n",
    "    m ← MaxMap(freqMap)\n",
    "    for every key Pattern in freqMap\n",
    "        if freqMap[Pattern] = m\n",
    "            append Pattern to Patterns\n",
    "    return Patterns```"
   ]
  },
  {
   "cell_type": "code",
   "execution_count": 22,
   "metadata": {},
   "outputs": [
    {
     "data": {
      "text/plain": [
       "{'AGA', 'AGC', 'AGG', 'AGT', 'GAG'}"
      ]
     },
     "execution_count": 22,
     "metadata": {},
     "output_type": "execute_result"
    }
   ],
   "source": [
    "def FrequentWordsWithMismatches(Text, k, d):\n",
    "    freqMap=dict()\n",
    "    for i in range(len(Text)-k):\n",
    "        Neighborhood=Neighbors(Text[i:i+k],d)\n",
    "        for Neighbor in Neighborhood:\n",
    "            freqMap[Neighbor]=freqMap.get(Neighbor,0)+1\n",
    "    m=max(freqMap.values())\n",
    "    return set([k for k,v in freqMap.items() if v==m])\n",
    "FrequentWordsWithMismatches(\"AACGGGGCT\",3,2)"
   ]
  },
  {
   "cell_type": "code",
   "execution_count": 36,
   "metadata": {},
   "outputs": [
    {
     "data": {
      "text/plain": [
       "True"
      ]
     },
     "execution_count": 36,
     "metadata": {},
     "output_type": "execute_result"
    }
   ],
   "source": [
    "\"flfjsla\"[::-1]<\"flfjsla\""
   ]
  },
  {
   "cell_type": "code",
   "execution_count": 48,
   "metadata": {},
   "outputs": [
    {
     "name": "stdout",
     "output_type": "stream",
     "text": [
      "[{'GCC', 'CCG'}, {'AAC', 'CAA'}, {'CAT', 'TAC'}, {'ATA'}, {'TGA', 'AGT'}, {'CGT', 'TGC'}, {'TCC', 'CCT'}, {'AGA'}, {'AAG', 'GAA'}, {'TAG', 'GAT'}, {'CTC'}, {'TTC', 'CTT'}, {'ACT', 'TCA'}, {'GAG'}, {'AGG', 'GGA'}, {'ACA'}, {'AAA'}, {'GGC', 'CGG'}, {'ATG', 'GTA'}, {'AAT', 'TAA'}, {'ACC', 'CCA'}, {'CAC'}, {'AGC', 'CGA'}, {'TAT'}, {'TTA', 'ATT'}, {'CCC'}, {'GTC', 'CTG'}, {'CAG', 'GAC'}, {'CGC'}, {'ATC', 'CTA'}, {'GCA', 'ACG'}, {'TCT'}, {'GGT', 'TGG'}, {'GTG'}, {'GCG'}, {'TCG', 'GCT'}, {'GTT', 'TTG'}, {'GGG'}, {'TGT'}]\n",
      "[9, 5, 4, 2, 10, 9, 5, 6, 9, 9, 3, 3, 3, 6, 10, 2, 2, 10, 8, 3, 5, 3, 10, 1, 2, 4, 8, 9, 5, 4, 9, 1, 9, 5, 5, 8, 7, 5, 4]\n",
      "True\n"
     ]
    }
   ],
   "source": [
    "def FreqMismRev(Text, k, d):\n",
    "    freqMap=dict()\n",
    "    for i in range(len(Text)-k):\n",
    "        Neighborhood=Neighbors(Text[i:i+k],d)\n",
    "        for Neighbor in Neighborhood:\n",
    "            freqMap[Neighbor]=freqMap.get(Neighbor,0)+1\n",
    "    pairs=[{x,x[::-1]}for x in freqMap.keys()]\n",
    "    unique_pairs=[]\n",
    "    for pair in pairs:\n",
    "        if pair not in unique_pairs:\n",
    "            unique_pairs.append(pair)\n",
    "    print(unique_pairs)\n",
    "    pair_values=[]\n",
    "    for i,pair in enumerate(unique_pairs):\n",
    "        pair_values.append(0)\n",
    "        for Text in pair:\n",
    "            pair_values[i]+=freqMap.get(Text,0)\n",
    "    print(pair_values)\n",
    "    print(len(pair_values)==len(unique_pairs))\n",
    "    #m=max(freqMap.values())\n",
    "    #return set([k for k,v in freqMap.items() if v==m])\n",
    "FreqMismRev(\"AACGGGGCT\",3,2)"
   ]
  },
  {
   "cell_type": "code",
   "execution_count": 45,
   "metadata": {},
   "outputs": [
    {
     "ename": "IndexError",
     "evalue": "list assignment index out of range",
     "output_type": "error",
     "traceback": [
      "\u001b[0;31m---------------------------------------------------------------------------\u001b[0m",
      "\u001b[0;31mIndexError\u001b[0m                                Traceback (most recent call last)",
      "Cell \u001b[0;32mIn[45], line 2\u001b[0m\n\u001b[1;32m      1\u001b[0m L\u001b[38;5;241m=\u001b[39m[]\n\u001b[0;32m----> 2\u001b[0m \u001b[43mL\u001b[49m\u001b[43m[\u001b[49m\u001b[38;5;241;43m0\u001b[39;49m\u001b[43m]\u001b[49m\u001b[38;5;241m=\u001b[39m\u001b[38;5;241m1\u001b[39m\n\u001b[1;32m      3\u001b[0m L\n",
      "\u001b[0;31mIndexError\u001b[0m: list assignment index out of range"
     ]
    }
   ],
   "source": [
    "L=[]\n",
    "L[0]=1\n",
    "L"
   ]
  },
  {
   "cell_type": "code",
   "execution_count": 29,
   "metadata": {},
   "outputs": [
    {
     "name": "stdout",
     "output_type": "stream",
     "text": [
      "GGAGGACACCGGGACGGAGGACGGAGGAGGACGGAACCGAGGTACCGGGAAGGTGGAACCGAGGTACCGGGAGGACGGAGGAGGACGGAACCGGGACACCGGGACGGACACCGGGACAGGTAGGTGGAACCGAGGTACCGGGAAGGTGGACACCGAGGTGGAGGAACCGAGGTGGAGGAGGAGGAGGACACCGAGGTGGAAGGTGGAGGAACCGAGGTAGGTACCGGGACGGACGGACGGAAGGTGGACGGACGGAAGGTGGAAGGTACCGGGAGGACGGAGGAACCGGGACACCGACCGACCGACCGGGAGGAGGACGGAGGACGGAACCG\n",
      "6 3\n"
     ]
    }
   ],
   "source": [
    "with open(\"dataset_30278_9.txt\",\"r\") as f:\n",
    "    data=f.read()\n",
    "Text,k,d=data.strip().split()\n",
    "k,d=map(int,[k,d])\n",
    "print(Text)\n",
    "print(k,d)"
   ]
  },
  {
   "cell_type": "code",
   "execution_count": 30,
   "metadata": {},
   "outputs": [
    {
     "data": {
      "text/plain": [
       "'GGGGGG'"
      ]
     },
     "execution_count": 30,
     "metadata": {},
     "output_type": "execute_result"
    }
   ],
   "source": [
    "\" \".join(FrequentWordsWithMismatches(Text,k,d))"
   ]
  }
 ],
 "metadata": {
  "kernelspec": {
   "display_name": "summer2024",
   "language": "python",
   "name": "python3"
  },
  "language_info": {
   "codemirror_mode": {
    "name": "ipython",
    "version": 3
   },
   "file_extension": ".py",
   "mimetype": "text/x-python",
   "name": "python",
   "nbconvert_exporter": "python",
   "pygments_lexer": "ipython3",
   "version": "3.10.14"
  }
 },
 "nbformat": 4,
 "nbformat_minor": 2
}
